{
 "cells": [
  {
   "cell_type": "markdown",
   "id": "8137bdef-3384-4555-8cf4-a1b5dc4d3f1e",
   "metadata": {},
   "source": [
    "# From Zero to Particles — Jupyter Notebooks\n",
    "## Notebook-Set 100: Einführung in Python und Jupyter Notebooks"
   ]
  },
  {
   "cell_type": "markdown",
   "id": "f7cb6785-933a-4151-be14-93edd5eb92c9",
   "metadata": {},
   "source": [
    "⬅️ [Zurück zu Notebook 101: Einstieg](101_Einstieg.ipynb)"
   ]
  },
  {
   "cell_type": "markdown",
   "id": "8d896984-6ca0-4892-9416-3e78e63aabdf",
   "metadata": {},
   "source": [
    "### 🗨️ Kommentare\n",
    "\n",
    "In Python kannst du mit `#` einen **Kommentar** schreiben. Kommentare werden beim Ausführen ignoriert, sind aber sehr nützlich, um deinen Code zu erklären.\n",
    "```python\n",
    "# Das ist ein Kommentar\n",
    "x = 5 # Diese Variable speichert die Zahl 5\n",
    "```"
   ]
  },
  {
   "cell_type": "markdown",
   "id": "6d3674d6-15f3-4ee4-bf69-20b08e12bbd2",
   "metadata": {},
   "source": [
    "---\n",
    "\n",
    "### ➕ Rechenoperationen\n",
    "\n",
    "Python kann wie ein Taschenrechner verwendet werden:\n",
    "\n",
    "```python\n",
    "3 + 4      # Addition\n",
    "10 - 2     # Subtraktion\n",
    "6 * 7      # Multiplikation\n",
    "20 / 4     # Division (ergibt immer eine Kommazahl)\n",
    "2 ** 3     # Potenz (2 hoch 3)\n",
    "9 // 2     # Ganzzahldivision → ergibt 4\n",
    "9 % 2      # Modulo (Rest bei Division) → ergibt 1\n",
    "\n",
    "```\n",
    "Es folgt nun ein **Codeblock**, den du direkt ausführen kannst – drücke einfach `Shift + Enter`."
   ]
  },
  {
   "cell_type": "code",
   "execution_count": null,
   "id": "7c258d63-20d4-4999-99ec-be13a0ea6f45",
   "metadata": {},
   "outputs": [],
   "source": [
    "2 + 3 * 4      # ergibt 14\n",
    "(2 + 3) * 4    # ergibt 20"
   ]
  },
  {
   "cell_type": "markdown",
   "id": "11e5c737-35ea-4259-89da-01401bb61f09",
   "metadata": {},
   "source": [
    "⚠️ **Achtung:** Jupyter zeigt **standardmäßig nur das Ergebnis der letzten Berechnung** in einer Zelle an.\n",
    "\n",
    "❓ **Frage:** Wie könntest du stattdessen nur die **erste** Berechnung durchführen und somit nur das **Ergebnis der ersten Berechnung** ausgeben?\n",
    "\n",
    "💡 **Tipp:** Du kannst einfach den obigen Codeblock auswählen, um ihn erneut auszuführen – oder mit den Pfeiltasten nach oben navigieren, um ihn schnell wieder aufzurufen."
   ]
  },
  {
   "cell_type": "markdown",
   "id": "5188b3dd-2c6b-42af-b319-a967e5b31542",
   "metadata": {},
   "source": [
    "---\n",
    "\n",
    "### 🔣 Variablen\n",
    "\n",
    "Mit Variablen kannst du Werte speichern und später weiterverwenden:\n",
    "\n",
    "Das Gleichheitszeichen `=` dient in Programmiersprachen, wie Python, **nicht** als mathematischer Äquivalenzoperator (wie in Gleichungen), sondern als **Zuweisungsoperator**: Es weist der Variablen auf der linken Seite den Wert der rechten Seite zu."
   ]
  },
  {
   "cell_type": "code",
   "execution_count": null,
   "id": "34da239b-f541-4dcf-9f96-1286babe82c8",
   "metadata": {},
   "outputs": [],
   "source": [
    "a = 5\n",
    "b = 3\n",
    "ergebnis = a * b\n",
    "print(ergebnis)"
   ]
  },
  {
   "cell_type": "markdown",
   "id": "89f57a90-1278-4363-ad14-4227dbbe1258",
   "metadata": {},
   "source": [
    "Du kannst beliebige Namen verwenden (solange sie mit einem Buchstaben beginnen und keine Leerzeichen enthalten)."
   ]
  },
  {
   "cell_type": "markdown",
   "id": "97c4b7ed-c26f-4082-854e-37f6aef64ef7",
   "metadata": {},
   "source": [
    "---\n",
    "\n",
    "### 🧬 Datentypen\n",
    "\n",
    "Jede Variable in Python hat einen **Datentyp**, unter anderem damit der Computer weiß wie viel **Speicherplatz** er für die Variable freihalten muss oder wie er verschiedene Variablen miteinander **verrechnet**.  \n",
    "z. B. `int` (Ganzzahl), `float` (Kommazahl), `str` (Text):"
   ]
  },
  {
   "cell_type": "code",
   "execution_count": null,
   "id": "6a24e6a7-7a6f-4d12-a054-7fb40fb2ee91",
   "metadata": {},
   "outputs": [],
   "source": [
    "x = 7         # int\n",
    "y = 3.14      # float\n",
    "name = \"Alice\"  # str\n",
    "\n",
    "print(type(x))\n",
    "print(type(name))"
   ]
  },
  {
   "cell_type": "markdown",
   "id": "42f21af5-15d5-436c-aee3-6ce4c53b8fa9",
   "metadata": {},
   "source": [
    "Du kannst Datentypen bei Bedarf **umwandeln**:"
   ]
  },
  {
   "cell_type": "code",
   "execution_count": null,
   "id": "daa14589-0cbe-45e4-a573-e5b196ec80e9",
   "metadata": {},
   "outputs": [],
   "source": [
    "int(\"42\")     # ergibt 42 als Zahl\n",
    "str(42)       # ergibt \"42\" als Text\n",
    "float(\"3.14\") # ergibt 3.14 als Kommazahl"
   ]
  },
  {
   "cell_type": "markdown",
   "id": "8c6f1094-8cf7-4605-aadd-1826f306b9b8",
   "metadata": {},
   "source": [
    "💡 **Tipp:** Mit `type(...)` kannst du jederzeit nachsehen, welchen Typ eine Variable hat."
   ]
  },
  {
   "cell_type": "markdown",
   "id": "bf205842-6ace-4af5-a7f8-924b9b98ae82",
   "metadata": {},
   "source": [
    "---\n",
    "\n",
    "### 🧪 Übung: Variablen und Datentypen\n",
    "\n",
    "Definiere eine Variable `name` mit deinem Vornamen, und eine Variable `alter` mit deinem Alter.\n",
    "\n",
    "1. Gib beides mit `print()` aus, z. B. in der Form:\n",
    "\n",
    "    Mein Name ist ____ und ich bin __ Jahre alt.\n",
    "\n",
    "3. Überprüfe den **Datentyp** der beiden Variablen mit `type(...)`.\n",
    "\n",
    "4. Was passiert, wenn du folgendes ausführst?\n",
    "\n",
    "```python\n",
    "print(\"In 5 Jahren bin ich \" + alter + \" Jahre alt.\")\n",
    "```"
   ]
  },
  {
   "cell_type": "code",
   "execution_count": null,
   "id": "982f3e49-9dc6-4cc6-bcdf-46d3dd1a90b9",
   "metadata": {},
   "outputs": [],
   "source": [
    "# HIER KÖNNTE DEIN CODE STEHEN"
   ]
  },
  {
   "cell_type": "markdown",
   "id": "ee07f1ad-5c42-44a2-b5c6-4024e4eeaada",
   "metadata": {},
   "source": [
    "➡️ **Fehlermeldung?**  \n",
    "Dann korrigiere den Datentyp mit `str(...)` oder `int(...)`, sodass der Ausdruck funktioniert."
   ]
  },
  {
   "cell_type": "markdown",
   "id": "5204132f-a860-46b6-805b-da2de20578c1",
   "metadata": {},
   "source": [
    "---\n",
    "\n",
    "### 🧪 Übung: Temperaturumrechnung mit Variablen\n",
    "\n",
    "Definiere eine Variable `celsius`, in der eine Temperatur in Grad Celsius gespeichert ist.\n",
    "\n",
    "1. Rechne diese Temperatur in **Fahrenheit** um und speichere das Ergebnis in einer neuen Variable `fahrenheit`.  \n",
    "   Die Umrechnungsformel lautet:  \n",
    "   $F = \\frac{9}{5} \\cdot C + 32$\n",
    "\n",
    "2. Gib das Ergebnis schön formatiert aus:  \n",
    "    20°C sind 68°F.  \n",
    "3. Überprüfe den Datentyp von `celsius` und `fahrenheit`.\n",
    "\n",
    "💡 **Tipp:** Du kannst Variablen in `print()` kombinieren, z. B. mit `str()` oder mit `f\"...\"`-Strings."
   ]
  },
  {
   "cell_type": "code",
   "execution_count": null,
   "id": "d9a8885d-f551-4c5e-b7d0-70c751351bb2",
   "metadata": {},
   "outputs": [],
   "source": [
    "# HIER KÖNNTE DEIN CODE STEHEN"
   ]
  },
  {
   "cell_type": "markdown",
   "id": "45709a7e-384b-48ff-aa6e-c1df85cd0778",
   "metadata": {},
   "source": [
    "➡️ [Weiter zu Notebook 103: Listen, Schleifen & Funktionen](103_Listen_Schleifen_Funktionen.ipynb)"
   ]
  },
  {
   "cell_type": "code",
   "execution_count": null,
   "id": "5c6b7bf4-6180-4c50-b8ab-c8c91b3a4d6b",
   "metadata": {},
   "outputs": [],
   "source": []
  }
 ],
 "metadata": {
  "kernelspec": {
   "display_name": "Python 3 (ipykernel)",
   "language": "python",
   "name": "python3"
  },
  "language_info": {
   "codemirror_mode": {
    "name": "ipython",
    "version": 3
   },
   "file_extension": ".py",
   "mimetype": "text/x-python",
   "name": "python",
   "nbconvert_exporter": "python",
   "pygments_lexer": "ipython3",
   "version": "3.12.3"
  }
 },
 "nbformat": 4,
 "nbformat_minor": 5
}
