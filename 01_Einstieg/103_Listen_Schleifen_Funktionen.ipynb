{
 "cells": [
  {
   "cell_type": "markdown",
   "id": "ac1b01ad-4416-4e03-aaf0-6b131d443a04",
   "metadata": {},
   "source": [
    "# From Zero to Particles — Jupyter Notebooks\n",
    "## Notebook 1: Einführung in Python und Jupyter Notebooks"
   ]
  },
  {
   "cell_type": "markdown",
   "id": "a5c0d10e-1c05-4603-b261-73e3fa04b5bc",
   "metadata": {},
   "source": [
    "⬅️ [Zurück zu Notebook 102: Rechnen in Python](102_Rechnen_in_Python.ipynb)"
   ]
  },
  {
   "cell_type": "markdown",
   "id": "dd955355-ec27-4f58-a4de-bad174cef7ef",
   "metadata": {},
   "source": [
    "---\n",
    "\n",
    "### 📚 Listen\n",
    "\n",
    "Listen sind **Sammlungen von Werten**. Du kannst mehrere Elemente (Zahlen, Texte, …) in einer Variablen speichern – geordnet und veränderbar.\n",
    "\n",
    "Beispiel:\n",
    "```python\n",
    "noten = [1.3, 2.0, 1.7, 3.3]\n",
    "```\n",
    "Mit Listen kannst du z.B.:\n",
    "\n",
    "- einzelne Werte über ihren Index abrufen (`noten[0]`)\n",
    "- über alle Elemente iterieren (`for note in noten`)\n",
    "- Elemente hinzufügen, ändern oder entfernen\n",
    "\n",
    "📌 **Hinweis:** Arrays (z.B. aus der NumPy Bibliothek) sind Sonderfälle von Listen.\n",
    "#### 🔧 Häufig genutzte Befehle:"
   ]
  },
  {
   "cell_type": "code",
   "execution_count": null,
   "id": "bafc0b43-1d63-4905-8f3e-82a6247c0ce6",
   "metadata": {},
   "outputs": [],
   "source": [
    "liste = [3, 7, 2]\n",
    "\n",
    "liste[0]        # Zugriff auf erstes Element → 3\n",
    "liste[-1]       # Zugriff auf letztes Element → 2\n",
    "\n",
    "liste.append(5)     # Fügt 5 am Ende hinzu\n",
    "liste.insert(1, 9)  # Fügt 9 an Stelle 1 ein\n",
    "liste.remove(3)     # Entfernt die erste 3\n",
    "\n",
    "len(liste)      # Anzahl der Elemente\n",
    "sum(liste)      # Summe aller Zahlen (nur bei numerischen Listen)\n",
    "sorted(liste)   # Gibt sortierte Kopie zurück (Original bleibt unverändert)"
   ]
  },
  {
   "cell_type": "markdown",
   "id": "21043760-1838-4768-8c0f-102bcc1a29c1",
   "metadata": {},
   "source": [
    "💡 **Tipp:** Du kannst Listen beliebiger Länge und verschiedener Typen erstellen. Auch verschachtelte Listen sind möglich:"
   ]
  },
  {
   "cell_type": "code",
   "execution_count": null,
   "id": "b67ea03b-faa1-4b58-b7ca-a2f048b55166",
   "metadata": {},
   "outputs": [],
   "source": [
    "mixed = [3, \"Hallo\", True, [1, 2]]"
   ]
  },
  {
   "cell_type": "markdown",
   "id": "01e8dad3-f18a-480b-bf67-7297fc198489",
   "metadata": {},
   "source": [
    "---\n",
    "\n",
    "### 🧪 Übung: Deine Einkaufsliste\n",
    "\n",
    "Erstelle eine Liste `einkauf`, in der mindestens 4 Dinge stehen, die du einkaufen möchtest (z. B. `\"Milch\"`, `\"Brot\"`).\n",
    "\n",
    "1. Gib das erste und das letzte Element der Liste aus.  \n",
    "2. Füge ein weiteres Element am Ende der Liste hinzu.  \n",
    "3. Ersetze das zweite Element durch `\"Kaffee\"`.  \n",
    "4. Gib die gesamte Liste mit `print(...)` aus.\n",
    "\n",
    "💡 **Tipp:** Nutze `append(...)`, Index-Zugriff (`liste[1] = ...`) und `print(...)`.\n",
    "\n",
    "**Bonus:** Sortiere deine Liste alphabetisch und gib sie erneut aus."
   ]
  },
  {
   "cell_type": "code",
   "execution_count": null,
   "id": "6d7c3348-92a2-4926-9e2e-40aa0b08b136",
   "metadata": {},
   "outputs": [],
   "source": [
    "# HIER KÖNNTE DEIN CODE STEHEN"
   ]
  },
  {
   "cell_type": "markdown",
   "id": "106deee8-3e04-4aa6-9c30-30bf855485a8",
   "metadata": {},
   "source": [
    "---\n",
    "\n",
    "### 🔁 Schleifen\n",
    "\n",
    "Mit **Schleifen** kannst du Anweisungen **mehrfach automatisch ausführen** – z. B. über alle Elemente einer Liste, oder solange eine Bedingung erfüllt ist.\n",
    "\n",
    "#### 🧭 for-Schleife\n",
    "\n",
    "Die `for`-Schleife durchläuft eine **Liste oder ein Iterable**:"
   ]
  },
  {
   "cell_type": "code",
   "execution_count": null,
   "id": "188b0e7c-7435-41de-a84f-edd671870aaa",
   "metadata": {},
   "outputs": [],
   "source": [
    "namen = [\"Anna\", \"Ben\", \"Clara\"]\n",
    "\n",
    "for name in namen:\n",
    "    print(\"Hallo\", name)"
   ]
  },
  {
   "cell_type": "markdown",
   "id": "83d582c6-827e-479b-a867-9f6b6daab10c",
   "metadata": {},
   "source": [
    "Du kannst auch mit `range(...)` zählen:"
   ]
  },
  {
   "cell_type": "code",
   "execution_count": null,
   "id": "fa95027b-fba2-44d8-9877-1585a395814b",
   "metadata": {},
   "outputs": [],
   "source": [
    "for i in range(5):\n",
    "    print(\"i =\", i)"
   ]
  },
  {
   "cell_type": "markdown",
   "id": "c5630db3-8e9a-4203-94e8-b047e0b856b7",
   "metadata": {},
   "source": [
    "📌 `range(5)` erzeugt die Zahlen `0, 1, 2, 3, 4, 5`.\n",
    "\n",
    "#### ⏳ while-Schleife\n",
    "\n",
    "Die `while`-Schleife wiederholt etwas **solange** eine Bedingung erfüllt ist:"
   ]
  },
  {
   "cell_type": "code",
   "execution_count": null,
   "id": "9276c0cb-54b3-43e6-963e-c1cf274d0843",
   "metadata": {},
   "outputs": [],
   "source": [
    "x = 0\n",
    "while x < 3:\n",
    "    print(\"x ist\", x)\n",
    "    x += 1"
   ]
  },
  {
   "cell_type": "markdown",
   "id": "d7c203c3-4b54-411c-b0ca-106216a9c947",
   "metadata": {},
   "source": [
    "⚠️ **Achte darauf, dass sich die Bedingung irgendwann erfüllt** – sonst entsteht eine Endlosschleife.\n",
    "\n",
    "💡 **Tipp:** Mit `break` kannst du eine Schleife abbrechen, mit `continue` einen Durchlauf überspringen."
   ]
  },
  {
   "cell_type": "markdown",
   "id": "12dfb054-7720-493d-b67d-9cf5362d5e33",
   "metadata": {},
   "source": [
    "---\n",
    "\n",
    "### 🧪 Übung: Zahlen und Schleifen\n",
    "\n",
    "1. Erstelle eine Liste `zahlen` mit den Zahlen von 1 bis 5.  \n",
    "2. Gib für jede Zahl das Quadrat mit einer `for`-Schleife aus.  \n",
    "3. Berechne mit einer `while`-Schleife die Summe aller Zahlen in der Liste.\n",
    "\n",
    "💡 **Tipp:**  \n",
    "- Nutze `range(1, 6)` für die Liste.  \n",
    "- Starte bei `i = 0` und summiere mit `while i < len(zahlen)`.\n",
    "\n",
    "**Bonus:** Erweitere die `for`-Schleife so, dass **nur gerade Zahlen** ausgegeben werden."
   ]
  },
  {
   "cell_type": "code",
   "execution_count": null,
   "id": "8c3bfc93-6f30-4619-bcdc-435c059d7029",
   "metadata": {},
   "outputs": [],
   "source": [
    "# HIER KÖNNTE DEIN CODE STEHEN"
   ]
  },
  {
   "cell_type": "markdown",
   "id": "62354b4c-9e5c-446b-b77e-552a1f2de77a",
   "metadata": {},
   "source": [
    "### 🛠️ Funktionen\n",
    "\n",
    "Funktionen sind **wiederverwendbare Blöcke von Code**, die du mit einem Namen versiehst. Sie helfen dabei, Programme übersichtlicher, strukturierter und flexibler zu gestalten.\n",
    "\n",
    "#### 🧱 Aufbau einer Funktion"
   ]
  },
  {
   "cell_type": "code",
   "execution_count": null,
   "id": "f898a4ab-e4e2-4faa-9ea3-7f3367e1d63f",
   "metadata": {},
   "outputs": [],
   "source": [
    "def begruessung(name):\n",
    "    print(\"Hallo,\", name)"
   ]
  },
  {
   "cell_type": "markdown",
   "id": "bcfd1c0e-90d5-432e-886e-54668a029627",
   "metadata": {},
   "source": [
    "- `def` leitet die Definition ein.\n",
    "- `begruessung` ist der Funktionsname.\n",
    "- `name` ist ein Parameter.\n",
    "- `print(...)` ist der Funktionskörper.\n",
    "\n",
    "Aufrufen kannst du die Funktion mit:"
   ]
  },
  {
   "cell_type": "code",
   "execution_count": null,
   "id": "8b63da47-7270-48c5-ae74-e85446731ce5",
   "metadata": {},
   "outputs": [],
   "source": [
    "begruessung(\"Sophie\")"
   ]
  },
  {
   "cell_type": "markdown",
   "id": "89992e00-7f44-4794-a0de-370bf7db90d1",
   "metadata": {},
   "source": [
    "#### 🔁 Funktionen mit Rückgabewert\n",
    "\n",
    "Statt direkt etwas auszugeben, kannst du auch einen **Wert zurückgeben**:"
   ]
  },
  {
   "cell_type": "code",
   "execution_count": null,
   "id": "d3ac9e16-5490-4d92-a3ad-c2435eee1b39",
   "metadata": {},
   "outputs": [],
   "source": [
    "def quadrat(x):\n",
    "    return x ** 2"
   ]
  },
  {
   "cell_type": "code",
   "execution_count": null,
   "id": "76c46774-9b05-4ea6-a1f7-64b57d3b2075",
   "metadata": {},
   "outputs": [],
   "source": [
    "ergebnis = quadrat(4)\n",
    "print(ergebnis)   # ergibt 16"
   ]
  },
  {
   "cell_type": "markdown",
   "id": "66e59b9a-485f-44a7-824a-6e87b2a82b59",
   "metadata": {},
   "source": [
    "#### ⚙️ Funktionen mit mehreren Parametern und Standardwerten"
   ]
  },
  {
   "cell_type": "code",
   "execution_count": null,
   "id": "7ffa4083-9b71-471a-beab-98a8533a577f",
   "metadata": {},
   "outputs": [],
   "source": [
    "def potenz(basis, exponent=2):\n",
    "    return basis ** exponent"
   ]
  },
  {
   "cell_type": "code",
   "execution_count": null,
   "id": "6ad662a2-cf6a-4dd3-a7c2-bd7a45b82c96",
   "metadata": {},
   "outputs": [],
   "source": [
    "print(potenz(3))      # ergibt 9\n",
    "print(potenz(2, 5))   # ergibt 32"
   ]
  },
  {
   "cell_type": "markdown",
   "id": "3b1498db-0a3a-4098-a861-a0b03ab7b62b",
   "metadata": {},
   "source": [
    "#### 💡 Tipp:\n",
    "\n",
    "- Verwende `return`, wenn du das Ergebnis **weiterverarbeiten** willst.  \n",
    "- Verwende `print`, wenn du es **direkt anzeigen** willst."
   ]
  },
  {
   "cell_type": "markdown",
   "id": "82044a5e-0a56-4ad5-bed0-c4ad22486af6",
   "metadata": {},
   "source": [
    "---\n",
    "\n",
    "### 🧪 Übung: Eigene Funktion schreiben\n",
    "\n",
    "1. Schreibe eine Funktion `ist_gerade(x)`, die `True` zurückgibt, wenn `x` gerade ist, sonst `False`.\n",
    "\n",
    "2. Teste die Funktion mit mehreren Zahlen (z. B. 3, 8, 15, 22).\n",
    "\n",
    "3. Schreibe eine zweite Funktion `drucke_gerade(liste)`, die alle **geraden Zahlen** aus einer übergebenen Liste ausgibt.\n",
    "\n",
    "💡 **Tipp:** Verwende den Modulo-Operator `%` und `if`-Bedingungen."
   ]
  },
  {
   "cell_type": "code",
   "execution_count": null,
   "id": "12109313-2198-4b69-a2d7-6477e92c5692",
   "metadata": {},
   "outputs": [],
   "source": [
    "# HIER KÖNNTE DEIN CODE STEHEN"
   ]
  },
  {
   "cell_type": "markdown",
   "id": "65a01440-b9b9-4e7a-9fd1-2d32a9fc8613",
   "metadata": {},
   "source": [
    "➡️ [Weiter zu Notebook 104: Matplotlib](104_Matplotlib.ipynb)"
   ]
  },
  {
   "cell_type": "code",
   "execution_count": null,
   "id": "0b39d943-10cd-4584-9afa-1b24abf5c1c7",
   "metadata": {},
   "outputs": [],
   "source": []
  }
 ],
 "metadata": {
  "kernelspec": {
   "display_name": "Python 3 (ipykernel)",
   "language": "python",
   "name": "python3"
  },
  "language_info": {
   "codemirror_mode": {
    "name": "ipython",
    "version": 3
   },
   "file_extension": ".py",
   "mimetype": "text/x-python",
   "name": "python",
   "nbconvert_exporter": "python",
   "pygments_lexer": "ipython3",
   "version": "3.12.3"
  }
 },
 "nbformat": 4,
 "nbformat_minor": 5
}
