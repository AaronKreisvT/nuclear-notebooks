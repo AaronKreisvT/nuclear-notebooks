{
 "cells": [
  {
   "cell_type": "markdown",
   "id": "8fa26dac-91b3-4cee-a916-ab965483ece2",
   "metadata": {},
   "source": [
    "# From Zero to Particles — Jupyter Notebooks\n",
    "## Notebook 1: Einführung in Python und Jupyter Notebooks"
   ]
  },
  {
   "cell_type": "markdown",
   "id": "111b0a34-4f0f-49ca-ae0c-09ab4d552352",
   "metadata": {},
   "source": [
    "⬅️ [Zurück zu Notebook 104: Matplotlib](104_Matplotlib.ipynb)"
   ]
  },
  {
   "cell_type": "markdown",
   "id": "dfd30140-1252-4539-be59-a98b9d1bdb47",
   "metadata": {},
   "source": [
    "### 🧾 Inhalt\n",
    "- Rechnen mit Variablen & Datentypen\n",
    "- Arbeiten mit Listen\n",
    "- Schleifen (for/while)\n",
    "- Funktionen schreiben\n",
    "- Plotten mit matplotlib\n",
    "- Interaktive Elemente\n",
    "- Einsatz einfacher, nicht eingeführter Befehle"
   ]
  },
  {
   "cell_type": "markdown",
   "id": "b71bbd5c-4512-4392-a9f6-6ec7651b6a1b",
   "metadata": {},
   "source": [
    "---\n",
    "\n",
    "### 🧪 Aufgabe 1: Rechnen & Datentypen\n",
    "Erstelle Variablen `name` (str) und `alter` (int).  \n",
    "Gib eine formatierte Begrüßung aus, z. B. \"Hallo Anna, du bist 21 Jahre alt.\"  \n",
    "Was passiert, wenn du `name` + `alter` kombinierst? Warum?  "
   ]
  },
  {
   "cell_type": "code",
   "execution_count": null,
   "id": "3e6fdf2f-bc10-4fd9-992b-2675c5be6774",
   "metadata": {},
   "outputs": [],
   "source": [
    "# HIER KÖNNTE DEIN CODE STEHEN"
   ]
  },
  {
   "cell_type": "markdown",
   "id": "bca8a9f3-28ed-47bb-9c4d-85e424966fcf",
   "metadata": {},
   "source": [
    "---\n",
    "\n",
    "### 🧪 Aufgabe 2: Listen\n",
    "Erstelle eine Liste mit deinen $5$ Lieblingszahlen.  \n",
    "Gib für jede Zahl den Wert ihres Quadrats plus $1$ aus.  \n",
    "Sortiere anschließend die Liste in absteigender Reihenfolge und gib sie erneut aus."
   ]
  },
  {
   "cell_type": "code",
   "execution_count": null,
   "id": "d020937e-f324-4a24-98a3-5e53697510ae",
   "metadata": {},
   "outputs": [],
   "source": [
    "# HIER KÖNNTE DEIN CODE STEHEN"
   ]
  },
  {
   "cell_type": "markdown",
   "id": "fa2a2333-e7bc-496d-8950-4c9f9a987895",
   "metadata": {},
   "source": [
    "---\n",
    "\n",
    "### 🧪 Aufgabe 3: Schleifen\n",
    "Erstelle eine Liste mit den Zahlen $1$ bis $10$.  \n",
    "Berechne mit einer `for`-Schleife die Summe aller geraden Zahlen.  \n",
    "Nutze zusätzlich eine `while`-Schleife, um alle Vielfachen von $3$ bis $30$ auszugeben."
   ]
  },
  {
   "cell_type": "code",
   "execution_count": null,
   "id": "accbe966-25a0-4703-b5e4-0afd8d50eaab",
   "metadata": {},
   "outputs": [],
   "source": [
    "# HIER KÖNNTE DEIN CODE STEHEN"
   ]
  },
  {
   "cell_type": "markdown",
   "id": "b87a9b88-69ad-49f7-ba67-973292bae8a5",
   "metadata": {},
   "source": [
    "---\n",
    "\n",
    "### 🧪 Aufgabe 4: Funktionen\n",
    "Schreibe eine Funktion `is_prime(n)`, die prüft, ob `n` eine Primzahl ist.  \n",
    "Teste die Funktion mit verschiedenen Zahlen.  \n",
    "Schreibe eine zweite Funktion, die alle Primzahlen bis `n` in einer Liste zurückgibt.  \n",
    "Hinweis: Du darfst `if`-Bedingungen verwenden.  \n",
    "👉 Lies bei Bedarf nach: https://www.w3schools.com/python/python_conditions.asp"
   ]
  },
  {
   "cell_type": "code",
   "execution_count": null,
   "id": "d43e71cd-b29b-4adc-ba54-d0560b7386ca",
   "metadata": {},
   "outputs": [],
   "source": [
    "# HIER KÖNNTE DEIN CODE STEHEN"
   ]
  },
  {
   "cell_type": "markdown",
   "id": "503b1591-6080-4fe3-8969-9111d01082fd",
   "metadata": {},
   "source": [
    "---\n",
    "\n",
    "### 🧪 Aufgabe 5: Plotten\n",
    "Erstelle einen Plot der Funktion $y = sin(x)$ für $x$ in $[-2π, 2π]$  \n",
    "Füge Achsenbeschriftung, Titel, Gitter und Legende hinzu.  \n",
    "Plotte zusätzlich $y = cos(x)$ im gleichen Diagramm."
   ]
  },
  {
   "cell_type": "code",
   "execution_count": null,
   "id": "267ca506-40b7-495b-8285-8b4030817f03",
   "metadata": {},
   "outputs": [],
   "source": [
    "# HIER KÖNNTE DEIN CODE STEHEN"
   ]
  },
  {
   "cell_type": "markdown",
   "id": "d709f14f-8fb1-4be7-acb1-5e6083a0a71d",
   "metadata": {},
   "source": [
    "---\n",
    "\n",
    "### 🧪 Aufgabe 6: Interaktivität\n",
    "\n",
    "Erstelle einen interaktiven Plot für  \n",
    "$y(x) = a \\cdot \\sin(kx + \\varphi) \\cdot e^{-b \\cdot x}$\n",
    "wobei die Parameter $a$, $k$, $ \\varphi $ und $ b $ über Slider verändert werden können.\n",
    "\n",
    "**Anforderungen:**\n",
    "\n",
    "- Verwende `ipywidgets.interact`, `numpy` und `matplotlib`.\n",
    "- Wähle sinnvolle Wertebereiche und Schrittweiten für die Slider.\n",
    "- Stelle den Plot übersichtlich dar (Achsen, Gitter, Titel).\n",
    "- Nutze `numpy.linspace(...)` für den x-Bereich (z. B. $ x \\in [0, 10] $).\n",
    "\n",
    "💡 **Hinweise:**\n",
    "- Der Parameter $ \\varphi $ ist eine Phasenverschiebung.\n",
    "- Der Faktor $ e^{-bx} $ erzeugt eine gedämpfte Schwingung.\n",
    "- Optional: Beschrifte den Plot dynamisch mit den aktuellen Parametern.\n",
    "\n",
    "🎯 **Ziel:**  \n",
    "Du sollst verstehen, wie sich Frequenz, Amplitude, Phase und Dämpfung in einem Plot **sichtbar** verändern lassen – ganz ohne den Code neu auszuführen."
   ]
  },
  {
   "cell_type": "code",
   "execution_count": null,
   "id": "eb6fd1ff-0530-44dd-bc75-5b13058c7949",
   "metadata": {},
   "outputs": [],
   "source": [
    "# HIER KÖNNTE DEIN CODE STEHEN"
   ]
  },
  {
   "cell_type": "markdown",
   "id": "8872f2f5-d38b-476c-a97f-fbaafa6bbf0c",
   "metadata": {},
   "source": [
    "### ℹ️ Hinweis:\n",
    "In diesem Notebook darfst du auch Befehle verwenden, die noch nicht ausführlich behandelt wurden – z. B.:\n",
    "- `if`-Bedingungen: https://www.w3schools.com/python/python_conditions.asp\n",
    "- `break`, `continue`: https://www.w3schools.com/python/python_loop_control.asp\n",
    "- `in`-Operator: https://www.w3schools.com/python/ref_keyword_in.asp\n",
    "\n",
    "Diese Konzepte sind leicht verständlich und gut online nachzulesen.\n",
    "\n",
    "Viel Erfolg! 💪"
   ]
  },
  {
   "cell_type": "code",
   "execution_count": null,
   "id": "25854a22-9ccc-40ec-b757-b417e29b1aa3",
   "metadata": {},
   "outputs": [],
   "source": []
  }
 ],
 "metadata": {
  "kernelspec": {
   "display_name": "Python 3 (ipykernel)",
   "language": "python",
   "name": "python3"
  },
  "language_info": {
   "codemirror_mode": {
    "name": "ipython",
    "version": 3
   },
   "file_extension": ".py",
   "mimetype": "text/x-python",
   "name": "python",
   "nbconvert_exporter": "python",
   "pygments_lexer": "ipython3",
   "version": "3.12.3"
  }
 },
 "nbformat": 4,
 "nbformat_minor": 5
}
