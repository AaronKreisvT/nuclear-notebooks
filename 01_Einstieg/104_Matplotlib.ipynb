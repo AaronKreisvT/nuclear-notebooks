{
 "cells": [
  {
   "cell_type": "markdown",
   "id": "b247a3a5-500e-4ef9-91fe-72c82860ba8e",
   "metadata": {},
   "source": [
    "# From Zero to Particles — Jupyter Notebooks\n",
    "## Notebook 1: Einführung in Python und Jupyter Notebooks"
   ]
  },
  {
   "cell_type": "markdown",
   "id": "00c49a02-6e6f-450e-9a84-b42d7f04532c",
   "metadata": {},
   "source": [
    "⬅️ [Zurück zu Notebook 103: Listen, Schleifen & Funktionen](103_Listen_Schleifen_Funktionen.ipynb)"
   ]
  },
  {
   "cell_type": "markdown",
   "id": "395ed392-5ceb-4525-bf19-f5e2c1b8fb38",
   "metadata": {},
   "source": [
    "### 📊 Was ist Matplotlib?\n",
    "\n",
    "Python ist eine **flexible Programmiersprache**, die sich durch ihre große Anzahl an **zusätzlichen Bibliotheken (Packages)** an jede Anwendung anpassen lässt – egal ob für Physik, Statistik, KI oder Visualisierung.\n",
    "\n",
    "🔧 Viele dieser Funktionen sind **nicht direkt in Python enthalten**, sondern befinden sich in **externen Modulen**, die du **importieren** musst.\n",
    "\n",
    "---\n",
    "\n",
    "**Matplotlib** ist eine solche externe Bibliothek – sie dient zur **Erstellung von Diagrammen und Grafiken** aller Art.\n",
    "\n",
    "Am häufigsten verwenden wir das Untermodul `pyplot`, das wir meist so importieren:\n",
    "\n",
    "```python\n",
    "import matplotlib.pyplot as plt\n",
    "```\n",
    "Dabei ist:\n",
    "\n",
    "- `matplotlib` das Paket,\n",
    "- `pyplot` das Untermodul für plots,\n",
    "- `plt` der Kurzname, den wir im restlichen Code verwenden."
   ]
  },
  {
   "cell_type": "markdown",
   "id": "b587e12f-3cee-406c-a664-b5f024a9f557",
   "metadata": {},
   "source": [
    "### 📈 Ein einfacher Linienplot\n",
    "\n",
    "Mit `matplotlib.pyplot` kannst du ganz einfach Funktionsverläufe darstellen.\n",
    "\n",
    "Ein typisches Beispiel ist der Plot einer Parabel $ y = x^2 $:"
   ]
  },
  {
   "cell_type": "code",
   "execution_count": null,
   "id": "8804a650-6644-47e9-afa7-fa7e7fdeb16a",
   "metadata": {},
   "outputs": [],
   "source": [
    "import matplotlib.pyplot as plt\n",
    "\n",
    "# Daten vorbereiten\n",
    "x = [-3, -2, -1, 0, 1, 2, 3]\n",
    "y = [i**2 for i in x]\n",
    "\n",
    "# Plot erstellen\n",
    "plt.plot(x, y)\n",
    "\n",
    "# Beschriftungen und Anzeige\n",
    "plt.xlabel(\"x-Werte\")\n",
    "plt.ylabel(\"y = x²\")\n",
    "plt.title(\"Ein einfacher Linienplot\")\n",
    "plt.grid(True)\n",
    "plt.show()"
   ]
  },
  {
   "cell_type": "markdown",
   "id": "d9c48d85-fed2-44f9-8de9-1e1d6d4fa99b",
   "metadata": {},
   "source": [
    "#### 🔍 Was passiert hier?\n",
    "\n",
    "- `x` und `y` sind Listen mit den Datenpunkten\n",
    "- `plt.plot(...)` zeichnet die Linie\n",
    "- `xlabel`, `ylabel` und `title` beschriften die Achsen und den Plot\n",
    "- `plt.grid(True)` fügt ein Raster ein\n",
    "- `plt.show()` zeigt die Grafik im Notebook an"
   ]
  },
  {
   "cell_type": "markdown",
   "id": "7d7c830b-fc88-4275-b4ed-9c64ec508fb6",
   "metadata": {},
   "source": [
    "---\n",
    "\n",
    "### 🎨 Plotgestaltung – mehr als nur Linien\n",
    "\n",
    "Mit `matplotlib` kannst du Plots nicht nur erstellen, sondern auch **individuell gestalten**, z. B. Farben, Linienstile, Beschriftungen und Achsenbereiche anpassen.\n",
    "\n",
    "#### 🔧 Wichtige Befehle zur Gestaltung\n",
    "\n",
    "```python\n",
    "plt.plot(x, y, color=\"red\", linestyle=\"--\", linewidth=2, label=\"Messreihe A\")\n",
    "```\n",
    "- `color=\"red\"` – Linienfarbe (z. B. `\"blue\"`, `\"green\"`, `\"#FF00FF\"`)\n",
    "- `linestyle=\"--\"` – gestrichelt (`\"-\"` = durchgezogen, `\":\"` = gepunktet, `\"-.\"` = punktiert-gestrichelt)\n",
    "- `linewidth=2` – Liniendicke\n",
    "- `label=\"...\"` – Text für die Legende\n",
    "\n",
    "Weitere nützliche Befehle:\n",
    "```python\n",
    "plt.xlim(-5, 5)     # Achsenbereich x\n",
    "plt.ylim(0, 10)     # Achsenbereich y\n",
    "plt.legend()        # Legende einblenden\n",
    "```\n",
    "💡 **Tipp:** Viele dieser Argumente kannst du direkt beim Aufruf von plot() angeben – das spart Code und macht deinen Plot klarer."
   ]
  },
  {
   "cell_type": "markdown",
   "id": "cbc0e935-bd07-4899-8fe9-311400557ad4",
   "metadata": {},
   "source": [
    "---\n",
    "\n",
    "### 🧪 Übung: Eigene Funktion plotten und gestalten\n",
    "\n",
    "Plotte die Funktion  \n",
    "$y = 2x^2 - 3x + 1$\n",
    "für $x$ von $-2$ bis $+2$.\n",
    "\n",
    "1. Erstelle `x` und `y`-Werte als Listen oder mit `range()`/`numpy`.\n",
    "2. Plotte die Funktion mit `plt.plot(...)`.\n",
    "3. Gestalte den Plot:\n",
    "   - Wähle eine passende Farbe und Linienstil.\n",
    "   - Beschrifte die Achsen und gib dem Plot einen Titel.\n",
    "   - Begrenze die x- und y-Achse mit `xlim()` und `ylim()`.\n",
    "   - Füge eine Legende hinzu (`label=...`, `plt.legend()`).\n",
    "\n",
    "**Bonus:** Plotte eine zweite Funktion im gleichen Diagramm (z. B. $y = x^2$) und vergleiche den Verlauf."
   ]
  },
  {
   "cell_type": "code",
   "execution_count": null,
   "id": "d78041b8-de99-4f55-a528-64f464fade39",
   "metadata": {},
   "outputs": [],
   "source": [
    "# HIER KÖNNTE DEIN CODE STEHEN"
   ]
  },
  {
   "cell_type": "markdown",
   "id": "954f860a-d97e-4439-8cfa-1dff6343ecbe",
   "metadata": {},
   "source": [
    "---\n",
    "\n",
    "### 📊 Balkendiagramme & Histogramme\n",
    "\n",
    "Neben Linienplots kannst du mit `matplotlib` auch **Balkendiagramme** und **Histogramme** erstellen – ideal für diskrete Daten oder Verteilungen.\n",
    "\n",
    "#### 🟦 Balkendiagramm\n",
    "\n",
    "Mit `plt.bar(x, y)` erzeugst du ein **klassisches Säulendiagramm**:"
   ]
  },
  {
   "cell_type": "code",
   "execution_count": null,
   "id": "87fd91dc-3d2d-4fad-a4d3-29fa1f82fe48",
   "metadata": {},
   "outputs": [],
   "source": [
    "import matplotlib.pyplot as plt\n",
    "\n",
    "kategorien = [\"A\", \"B\", \"C\", \"D\"]\n",
    "werte = [5, 7, 3, 6]\n",
    "\n",
    "plt.bar(kategorien, werte, color=\"skyblue\")\n",
    "plt.xlabel(\"Kategorie\")\n",
    "plt.ylabel(\"Wert\")\n",
    "plt.title(\"Einfaches Balkendiagramm\")\n",
    "plt.show()"
   ]
  },
  {
   "cell_type": "markdown",
   "id": "5e27e788-cc1b-4f66-a0a3-e12ac05ddcff",
   "metadata": {},
   "source": [
    "#### 📉 Histogramm\n",
    "\n",
    "Mit `plt.hist(...)` kannst du die Häufigkeitsverteilung von Werten darstellen – z. B. Messdaten oder Zufallszahlen:"
   ]
  },
  {
   "cell_type": "code",
   "execution_count": null,
   "id": "72393810-8e52-4ffb-83de-b319ab7aa584",
   "metadata": {},
   "outputs": [],
   "source": [
    "import matplotlib.pyplot as plt\n",
    "import random\n",
    "\n",
    "daten = [random.gauss(0, 1) for _ in range(1000)]\n",
    "\n",
    "plt.hist(daten, bins=20, color=\"orange\", edgecolor=\"black\")\n",
    "plt.xlabel(\"Wert\")\n",
    "plt.ylabel(\"Häufigkeit\")\n",
    "plt.title(\"Histogramm einer Normalverteilung\")\n",
    "plt.grid(True)\n",
    "plt.show()"
   ]
  },
  {
   "cell_type": "markdown",
   "id": "41448c26-b8d6-4baa-b87e-1269eb60a506",
   "metadata": {},
   "source": [
    "Wobei hier:\n",
    "\n",
    "- `bins=20`: Anzahl der Balken (Klassen)\n",
    "- `edgecolor`: Linien um die Balken\n",
    "- `random.gauss(mu, sigma)`: Zufallszahlen aus einer Normalverteilung\n",
    "\n",
    "💡 **Tipp:** Nutze Balkendiagramme für benannte Kategorien (z. B. Noten, Umfragen) und Histogramme für numerische Verteilungen."
   ]
  },
  {
   "cell_type": "markdown",
   "id": "69b8c8e3-2273-46a7-be41-78b4e019201f",
   "metadata": {},
   "source": [
    "---\n",
    "\n",
    "### 🧭 Weitere Plots: Vektorfelder, Flächen & mehr\n",
    "\n",
    "Mit `matplotlib` kannst du nicht nur Linien, Balken oder Histogramme darstellen, sondern auch **andere Diagrammtypen** – z. B. **Vektorfelder**, **Flächenplots**, **Konturenlinien**, **3D-Plots** und vieles mehr.\n",
    "\n",
    "Ein Beispiel für **Vektorfelder** ist `plt.quiver(...)`, das Pfeile darstellt – z. B. zur Visualisierung von Geschwindigkeitsfeldern oder Kräften."
   ]
  },
  {
   "cell_type": "code",
   "execution_count": null,
   "id": "ff26ba11-7a9d-4eac-b34c-d22388ac60d3",
   "metadata": {},
   "outputs": [],
   "source": [
    "import matplotlib.pyplot as plt\n",
    "import numpy as np\n",
    "\n",
    "X, Y = np.meshgrid(np.arange(-2, 3), np.arange(-2, 3))\n",
    "U = -Y  # x-Komponente der Pfeile\n",
    "V = X   # y-Komponente der Pfeile\n",
    "\n",
    "plt.quiver(X, Y, U, V)\n",
    "plt.title(\"Ein einfaches Vektorfeld\")\n",
    "plt.grid(True)\n",
    "plt.axis(\"equal\")\n",
    "plt.show()"
   ]
  },
  {
   "cell_type": "markdown",
   "id": "965b6005-8e61-49fc-a010-ee1b6a0d2bc2",
   "metadata": {},
   "source": [
    "💡 **Hinweis:** Für solche Plots wird oft ``NumPy`` verwendet, da es sehr effizient mit Feldern / Vektoren umgehen kann."
   ]
  },
  {
   "cell_type": "markdown",
   "id": "ef8bce1b-606f-4fb5-9656-72d9572f7882",
   "metadata": {},
   "source": [
    "---\n",
    "\n",
    "### 🧪 Übung: Dein erstes Vektorfeld\n",
    "\n",
    "Erstelle ein einfaches Vektorfeld mit `plt.quiver(...)`, bei dem die Pfeile **vom Ursprung wegzeigen**.\n",
    "\n",
    "1. Erzeuge mit `np.meshgrid(...)` ein Gitter von Punkten (z. B. von $-5$ bis $+5$).\n",
    "2. Berechne an jedem Punkt den Richtungsvektor $\\vec{v} = (x, y)$.\n",
    "3. Plotte das Feld mit `plt.quiver(...)`.\n",
    "\n",
    "🔧 **Zusatzoptionen:**\n",
    "- Skaliere alle Vektoren auf die gleiche Länge (z. B. mit `scale=...`).\n",
    "- Stelle den Plot symmetrisch dar mit `plt.axis(\"equal\")`.\n",
    "- Beschrifte die Achsen und gib dem Plot einen Titel."
   ]
  },
  {
   "cell_type": "code",
   "execution_count": null,
   "id": "b2680832-0094-4588-b3f6-dc496093ae35",
   "metadata": {},
   "outputs": [],
   "source": [
    "# HIER KÖNNTE DEIN CODE STEHEN"
   ]
  },
  {
   "cell_type": "markdown",
   "id": "ebc61c2d-1bdf-4076-b276-7d9fba2494f2",
   "metadata": {},
   "source": [
    "---\n",
    "\n",
    "### 🧭 Erweiterungsidee\n",
    "\n",
    "Probiere weitere Plottypen in `matplotlib` aus – z. B.:\n",
    "\n",
    "- `plt.contour(...)` – Höhenlinien/Konturen\n",
    "- `plt.imshow(...)` – Bilddarstellung einer Matrix\n",
    "- `plt.scatter(...)` – Punktwolken (z. B. für Streudiagramme)\n",
    "- `plt.pcolormesh(...)` – Farbige Flächenverteilungen\n",
    "- `mpl_toolkits.mplot3d` – **3D-Plots**"
   ]
  },
  {
   "cell_type": "code",
   "execution_count": null,
   "id": "8f3a4ed2-df99-4c1e-9b0f-7e3066f75fff",
   "metadata": {},
   "outputs": [],
   "source": [
    "# HIER KÖNNTE DEIN CODE STEHEN"
   ]
  },
  {
   "cell_type": "markdown",
   "id": "427d83e6-0c89-49f5-81b9-880f3adb685f",
   "metadata": {},
   "source": [
    "---\n",
    "\n",
    "### 🧮 Interaktive Plots mit ipywidgets\n",
    "\n",
    "Mit dem Zusatzmodul `ipywidgets` kannst du **interaktive Elemente** wie Schieberegler, Auswahlfelder oder Texteingaben in dein Notebook einbauen – ganz ohne GUI-Programmierung.\n",
    "\n",
    "Das ist besonders praktisch, um z. B. **Parameter zu variieren** und sofort zu sehen, wie sich ein Plot verändert.\n",
    "\n",
    "#### 🔧 Beispiel: Schieberegler für eine Parabel"
   ]
  },
  {
   "cell_type": "code",
   "execution_count": null,
   "id": "a7980b28",
   "metadata": {},
   "outputs": [],
   "source": [
    "import matplotlib.pyplot as plt\n",
    "import numpy as np\n",
    "from ipywidgets import interact\n",
    "\n",
    "def parabel(a=1):\n",
    "    x = np.linspace(-5, 5, 200)\n",
    "    y = a * x**2\n",
    "    plt.figure()\n",
    "    plt.plot(x, y)\n",
    "    plt.title(f\"y = {a}x²\")\n",
    "    plt.grid(True)\n",
    "    plt.ylim(0, 25)\n",
    "    plt.show()\n",
    "\n",
    "interact(parabel, a=(-5, 5, 0.5))"
   ]
  },
  {
   "cell_type": "markdown",
   "id": "2890e914",
   "metadata": {},
   "source": [
    "- `interact(...)` erzeugt automatisch ein passendes Steuerelement (hier: ein Slider für `a`)\n",
    "- Du kannst beliebig viele Parameter übergeben\n",
    "- Auch für Texte, Dropdowns und Booleans verfügbar\n",
    "\n",
    "💡 **Tipp:** Interaktive Plots funktionieren direkt im Jupyter Notebook – nicht aber in statischen PDF- oder HTML-Exporten."
   ]
  },
  {
   "cell_type": "markdown",
   "id": "0598dca7-f956-4a01-897c-c6a3829a84e1",
   "metadata": {},
   "source": [
    "---\n",
    "\n",
    "### 🧪 Übung: Interaktive Plots mit Slidern\n",
    "\n",
    "Nutze `ipywidgets.interact`, um deine bisherigen Plots **interaktiv steuerbar** zu machen!\n",
    "\n",
    "#### 🔁 Aufgabe:\n",
    "\n",
    "1. Wähle einen deiner früheren Funktionsplots – z. B. $y = ax^2 + bx + c$ oder $y = \\sin(kx)$.\n",
    "\n",
    "2. Baue eine Funktion mit Parametern – z. B. `def parabelfunktion(a, b, c):`  \n",
    "\n",
    "3. Verwende `interact(...)`, um **die Parameter per Slider steuerbar** zu machen.\n",
    "\n",
    "---\n",
    "\n",
    "#### 🔧 Beispielparameter:\n",
    "\n",
    "| Name | Bedeutung | Typ |\n",
    "|------|-----------|-----|\n",
    "| `a`  | Stärke der Krümmung (Parabel) | Float |\n",
    "| `b`  | Lineares Glied | Float |\n",
    "| `c`  | y-Achsen-Verschiebung | Float |\n",
    "| `k`  | Frequenz bei Sinusfunktion | Float |\n"
   ]
  },
  {
   "cell_type": "code",
   "execution_count": null,
   "id": "41a9776a-372a-4375-94ba-f1e22f926532",
   "metadata": {},
   "outputs": [],
   "source": [
    "# HIER KÖNNTE DEIN CODE STEHEN"
   ]
  },
  {
   "cell_type": "markdown",
   "id": "d5ccecb3",
   "metadata": {},
   "source": [
    "---\n",
    "\n",
    "🧭 **Erweiterungsidee:**\n",
    "- Begrenze die Wertebereiche der Slider sinnvoll (z. B. `a = (-5, 5, 0.1)`).\n",
    "- Beschrifte deinen Plot (Achsen, Titel).\n",
    "- Nutze `numpy` für x-Werte: `np.linspace(...)`.\n",
    "\n",
    "---\n",
    "\n",
    "#### Bonus:\n",
    "\n",
    "- Plotte zwei Funktionen gleichzeitig, z. B. $ y = ax^2 $ und $ y = bx $.\n",
    "- Verwende `plt.legend(...)` zur Unterscheidung.\n",
    "- Überlege dir physikalische Szenarien, bei denen du Parameter dynamisch variieren möchtest."
   ]
  },
  {
   "cell_type": "markdown",
   "id": "b1128ba8-f154-49fc-bf5c-71b08655c784",
   "metadata": {},
   "source": [
    "➡️ [Weiter zu Notebook 105: Uebungen](105_Uebungen.ipynb)"
   ]
  },
  {
   "cell_type": "code",
   "execution_count": null,
   "id": "9f445d87-a19c-4c76-9cff-07db3e4c9229",
   "metadata": {},
   "outputs": [],
   "source": []
  }
 ],
 "metadata": {
  "kernelspec": {
   "display_name": "Python 3 (ipykernel)",
   "language": "python",
   "name": "python3"
  },
  "language_info": {
   "codemirror_mode": {
    "name": "ipython",
    "version": 3
   },
   "file_extension": ".py",
   "mimetype": "text/x-python",
   "name": "python",
   "nbconvert_exporter": "python",
   "pygments_lexer": "ipython3",
   "version": "3.12.3"
  }
 },
 "nbformat": 4,
 "nbformat_minor": 5
}
