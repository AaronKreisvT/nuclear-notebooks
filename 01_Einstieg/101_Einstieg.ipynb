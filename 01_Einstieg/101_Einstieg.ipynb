{
 "cells": [
  {
   "cell_type": "markdown",
   "id": "1737aa4d-e429-41dd-b76f-c913820f48ea",
   "metadata": {},
   "source": [
    "# From Zero to Particles — Jupyter Notebooks\n",
    "## Notebook-Set 100: Einführung in Python und Jupyter Notebooks"
   ]
  },
  {
   "cell_type": "markdown",
   "id": "82764220-06de-438b-8095-da9a3a32ddd1",
   "metadata": {},
   "source": [
    "### 🧠 Was ist eine Programmiersprache?\n",
    "Eine **Programmiersprache** ist ein Werkzeug, mit dem Menschen einem Computer Anweisungen geben können. Diese Anweisungen folgen klaren Regeln und ermöglichen es, Probleme zu lösen, Daten zu analysieren oder interaktive Anwendungen zu erstellen.\n",
    "\n",
    "---\n",
    "\n",
    "### 🧭 Zwei grundlegende Programmierparadigmen\n",
    "\n",
    "Man unterscheidet grob zwei Arten, dem Computer mitzuteilen, was er tun soll:\n",
    "\n",
    "#### 🔨 1. Imperative Programmierung (Anweisungsbasiert)\n",
    "\n",
    "> 💬 *„Tue dies, dann das, dann das...“*\n",
    "\n",
    "- Der Mensch gibt dem Computer **Schritt für Schritt** genaue Anweisungen.\n",
    "- Beispiel aus dem Alltag: Ein Kochrezept.\n",
    "- Typisch für Sprachen wie **C, Python, Java, Fortran**.\n",
    "\n",
    "**Beispiel (Alltagssprache):**\n",
    "\n",
    "Nimm eine Tasse.  \n",
    "Fülle Wasser ein.  \n",
    "Stelle sie in die Mikrowelle.  \n",
    "Erhitze 2 Minuten.  \n",
    "\n",
    "---\n",
    "\n",
    "#### 📋 2. Deklarative Programmierung (Zielorientiert)\n",
    "\n",
    "> 💬 *„Das will ich – finde selbst heraus, wie!“*\n",
    "\n",
    "- Der Mensch beschreibt **was** er will, nicht **wie** es genau erreicht werden soll.\n",
    "- Der Computer übernimmt die Umsetzung.\n",
    "- Typisch für Sprachen wie **SQL, HTML, Haskell**.\n",
    "\n",
    "**Beispiel (Alltagssprache):**\n",
    "\n",
    "Ich möchte einen heißen Tee."
   ]
  },
  {
   "cell_type": "markdown",
   "id": "97607a9e-27d5-4a53-93d1-e4038876827c",
   "metadata": {},
   "source": [
    "### 🐍 Was ist Python?\n",
    "\n",
    "**Python** ist eine moderne, leicht verständliche und vielseitige (**imperative**) Programmiersprache. Sie wurde in den 1990er-Jahren entwickelt, um das Programmieren einfacher und lesbarer zu machen – ganz nach dem Motto:  \n",
    "> *\"Code sollte so lesbar sein wie normale Sprache.\"*\n",
    "\n",
    "---\n",
    "\n",
    "#### 🔧 Wofür wird Python verwendet?\n",
    "\n",
    "Python ist eine **Allzwecksprache** und wird heute in vielen Bereichen eingesetzt, zum Beispiel:\n",
    "\n",
    "- 🌍 **Datenanalyse & Wissenschaft** (z. B. in Physik, Biologie, Geowissenschaften)\n",
    "- 🤖 **Künstliche Intelligenz & Machine Learning**\n",
    "- 🧮 **Simulationen & numerische Berechnungen**\n",
    "- 📊 **Visualisierung und Datenaufbereitung**\n",
    "- 🕸️ **Webentwicklung**\n",
    "- 🎮 **Spiele, Automatisierung und vieles mehr**\n",
    "\n",
    "---\n",
    "\n",
    "#### 💡 Warum benutzen wir Python in dieser Vorlesung?\n",
    "\n",
    "- Python ist **einfach zu lernen** – ideal für den Einstieg!\n",
    "- Es gibt viele fertige **Bibliotheken für numerische Physik**, z. B. `numpy`, `scipy`, `matplotlib`.\n",
    "- Python lässt sich gut mit **Jupyter Notebooks** kombinieren: Du kannst Code, Text, Rechnungen und Plots alles an einem Ort schreiben und ausführen.\n",
    "\n",
    "---\n",
    "\n",
    "#### ✅ Unser Ziel:\n",
    "Du sollst mit Python **physikalische Modelle simulieren, Daten visualisieren** und dir das Rechnen erleichtern – ganz ohne unnötigen technischen Ballast."
   ]
  },
  {
   "cell_type": "markdown",
   "id": "c972a83d-a962-49a9-8127-06e0301a2221",
   "metadata": {},
   "source": [
    "### 📓 Was ist ein Jupyter Notebook?\n",
    "\n",
    "Ein **Jupyter Notebook** ist eine interaktive Umgebung, in der du **Code, Text, Formeln, Bilder und Plots** miteinander kombinieren kannst – alles in einem einzigen Dokument.\n",
    "\n",
    "Jupyter Notebooks eignen sich perfekt zum **Experimentieren, Rechnen, Dokumentieren und Visualisieren**, weshalb sie in Forschung und Lehre weit verbreitet sind – besonders in Naturwissenschaften, Data Science und Technik.\n",
    "\n",
    "---\n",
    "\n",
    "#### 🧩 Aufbau eines Notebooks\n",
    "\n",
    "Ein Notebook besteht aus sogenannten **Zellen**. Es gibt zwei Typen:\n",
    "\n",
    "- 🟦 **Code-Zellen**  \n",
    "  Hier schreibst du Python-Code. Wenn du die Zelle ausführst (`Shift + Enter`), wird der Code berechnet und das Ergebnis erscheint direkt darunter.\n",
    "\n",
    "- 📄 **Markdown-Zellen**  \n",
    "  Hier schreibst du normalen Text – auch **formatiert**, mit **Überschriften**, *kursiv*, **fett** oder sogar mathematischen Formeln wie:  \n",
    "  $N(t) = N_0 \\cdot e^{-\\lambda t}$\n",
    "\n",
    "Du kannst die Zellart **oben in der Menüleiste (Dropdown links neben \"Run\")** auswählen oder mit Tastenkürzeln (`Esc` + `Y` für Code, `Esc` + `M` für Markdown) umschalten.\n",
    "\n",
    "---\n",
    "\n",
    "#### 🖱️ Bedienung\n",
    "\n",
    "- `Shift + Enter`: Zelle ausführen\n",
    "- `Esc + B`: Neue Zelle **unterhalb** einfügen (B = Below)\n",
    "- `Esc + A`: Neue Zelle **oberhalb** einfügen (A = Above)\n",
    "- `Esc + D + D`: Zelle löschen\n",
    "- `Esc + M`: Zelle in **Markdown** umwandeln\n",
    "- `Esc + Y`: Zelle in **Code** umwandeln\n",
    "\n",
    "All diese Funktionen findest du auch **oben in der Menüleiste**, z. B. über die Buttons **\"Run\", \"Code\", \"Markdown\", \"+\", \"Schere\"** usw.\n",
    "\n",
    "💾 **Wichtig:** Vergiss nicht, dein Notebook regelmäßig zu speichern – z. B. über **\"Datei → Speichern und Checkpoint setzen\"** oder mit `Strg + S`.  \n",
    "📌 **Hinweis:** Es kann sein, dass du dem Notebook vertrauen musst, um Zellen ausführen zu können (Oben rechts)."
   ]
  },
  {
   "cell_type": "markdown",
   "id": "123385a8-35b9-435a-859f-f67774cd3c62",
   "metadata": {},
   "source": [
    "➡️ [Weiter zu Notebook 2: Rechnen in Python](102_Rechnen_in_Python.ipynb)"
   ]
  }
 ],
 "metadata": {
  "kernelspec": {
   "display_name": "Python 3 (ipykernel)",
   "language": "python",
   "name": "python3"
  },
  "language_info": {
   "codemirror_mode": {
    "name": "ipython",
    "version": 3
   },
   "file_extension": ".py",
   "mimetype": "text/x-python",
   "name": "python",
   "nbconvert_exporter": "python",
   "pygments_lexer": "ipython3",
   "version": "3.12.3"
  }
 },
 "nbformat": 4,
 "nbformat_minor": 5
}
