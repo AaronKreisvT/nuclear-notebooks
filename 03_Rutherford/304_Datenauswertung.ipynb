{
 "cells": [
  {
   "cell_type": "markdown",
   "id": "c5a2f051",
   "metadata": {},
   "source": [
    "# From Zero to Particles — Jupyter Notebooks\n",
    "## Notebook-Set 300: Die Rutherford-Streuung"
   ]
  },
  {
   "cell_type": "markdown",
   "id": "9add5c9c",
   "metadata": {},
   "source": [
    "⬅️ [Zurück zu Notebook 303: Signalverarbeitung](303_Signalverarbeitung.ipynb)"
   ]
  },
  {
   "cell_type": "code",
   "execution_count": null,
   "id": "1ecc8dcb",
   "metadata": {},
   "outputs": [],
   "source": []
  },
  {
   "cell_type": "markdown",
   "id": "319c32c2",
   "metadata": {},
   "source": [
    "➡️ [Weiter zu Notebook 305: Erweiterungen](305_Erweiterungen.ipynb)"
   ]
  },
  {
   "cell_type": "code",
   "execution_count": null,
   "id": "eadfc1ec",
   "metadata": {},
   "outputs": [],
   "source": []
  }
 ],
 "metadata": {
  "kernelspec": {
   "display_name": "Python 3 (ipykernel)",
   "language": "python",
   "name": "python3"
  },
  "language_info": {
   "codemirror_mode": {
    "name": "ipython",
    "version": 3
   },
   "file_extension": ".py",
   "mimetype": "text/x-python",
   "name": "python",
   "nbconvert_exporter": "python",
   "pygments_lexer": "ipython3",
   "version": "3.12.3"
  }
 },
 "nbformat": 4,
 "nbformat_minor": 5
}
