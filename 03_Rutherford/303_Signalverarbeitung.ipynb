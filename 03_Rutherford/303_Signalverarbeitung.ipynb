{
 "cells": [
  {
   "cell_type": "markdown",
   "id": "c5a2f051",
   "metadata": {},
   "source": [
    "# From Zero to Particles — Jupyter Notebooks\n",
    "## Notebook-Set 300: Die Rutherford-Streuung"
   ]
  },
  {
   "cell_type": "markdown",
   "id": "252b36bc",
   "metadata": {},
   "source": [
    "⬅️ [Zurück zu Notebook 302: Numerische Methoden](302_Numerische_Methoden.ipynb)"
   ]
  },
  {
   "cell_type": "code",
   "execution_count": null,
   "id": "8a8cb3fe",
   "metadata": {},
   "outputs": [],
   "source": []
  },
  {
   "cell_type": "markdown",
   "id": "4b7402fa",
   "metadata": {},
   "source": [
    "➡️ [Weiter zu Notebook 304: Datenauswertung](304_Datenauswertung.ipynb)"
   ]
  },
  {
   "cell_type": "code",
   "execution_count": null,
   "id": "fb8436dc",
   "metadata": {},
   "outputs": [],
   "source": []
  }
 ],
 "metadata": {
  "kernelspec": {
   "display_name": "Python 3 (ipykernel)",
   "language": "python",
   "name": "python3"
  },
  "language_info": {
   "codemirror_mode": {
    "name": "ipython",
    "version": 3
   },
   "file_extension": ".py",
   "mimetype": "text/x-python",
   "name": "python",
   "nbconvert_exporter": "python",
   "pygments_lexer": "ipython3",
   "version": "3.12.3"
  }
 },
 "nbformat": 4,
 "nbformat_minor": 5
}
