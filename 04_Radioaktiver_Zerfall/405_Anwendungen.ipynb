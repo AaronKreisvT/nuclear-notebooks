{
 "cells": [
  {
   "cell_type": "markdown",
   "id": "c5a2f051",
   "metadata": {},
   "source": [
    "# From Zero to Particles — Jupyter Notebooks\n",
    "## Notebook-Set 400: Der Radioaktive Zerfall"
   ]
  },
  {
   "cell_type": "markdown",
   "id": "a411b367",
   "metadata": {},
   "source": [
    "⬅️ [Zurück zu Notebook 404: C-14 Methode](404_C14_Methode.ipynb)"
   ]
  },
  {
   "cell_type": "code",
   "execution_count": null,
   "id": "1fb984ea",
   "metadata": {},
   "outputs": [],
   "source": []
  }
 ],
 "metadata": {
  "kernelspec": {
   "display_name": "Python 3 (ipykernel)",
   "language": "python",
   "name": "python3"
  },
  "language_info": {
   "codemirror_mode": {
    "name": "ipython",
    "version": 3
   },
   "file_extension": ".py",
   "mimetype": "text/x-python",
   "name": "python",
   "nbconvert_exporter": "python",
   "pygments_lexer": "ipython3",
   "version": "3.12.3"
  }
 },
 "nbformat": 4,
 "nbformat_minor": 5
}
