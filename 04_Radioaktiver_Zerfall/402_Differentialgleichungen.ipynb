{
 "cells": [
  {
   "cell_type": "markdown",
   "id": "c5a2f051",
   "metadata": {},
   "source": [
    "# From Zero to Particles — Jupyter Notebooks\n",
    "## Notebook-Set 400: Der Radioaktive Zerfall"
   ]
  },
  {
   "cell_type": "markdown",
   "id": "495e419b",
   "metadata": {},
   "source": [
    "⬅️ [Zurück zu Notebook 401: Radioaktiver Zerfall](401_Radioaktiver_Zerfall.ipynb)"
   ]
  },
  {
   "cell_type": "code",
   "execution_count": null,
   "id": "fdcefd6e",
   "metadata": {},
   "outputs": [],
   "source": []
  },
  {
   "cell_type": "markdown",
   "id": "2ece724d",
   "metadata": {},
   "source": [
    "➡️ [Weiter zu Notebook 403: Statistik](403_Statistik.ipynb)"
   ]
  },
  {
   "cell_type": "code",
   "execution_count": null,
   "id": "4aa3f699",
   "metadata": {},
   "outputs": [],
   "source": []
  }
 ],
 "metadata": {
  "kernelspec": {
   "display_name": "Python 3 (ipykernel)",
   "language": "python",
   "name": "python3"
  },
  "language_info": {
   "codemirror_mode": {
    "name": "ipython",
    "version": 3
   },
   "file_extension": ".py",
   "mimetype": "text/x-python",
   "name": "python",
   "nbconvert_exporter": "python",
   "pygments_lexer": "ipython3",
   "version": "3.12.3"
  }
 },
 "nbformat": 4,
 "nbformat_minor": 5
}
